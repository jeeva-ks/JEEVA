{
 "cells": [
  {
   "cell_type": "code",
   "execution_count": 1,
   "id": "95ad349f",
   "metadata": {},
   "outputs": [],
   "source": [
    "import pandas as pd"
   ]
  },
  {
   "cell_type": "code",
   "execution_count": 2,
   "id": "a6e148b2",
   "metadata": {},
   "outputs": [],
   "source": [
    "sales_data = pd.read_csv(\"C:\\\\Users\\\\jeeva\\\\Downloads\\\\sales_data_1.csv\")\n"
   ]
  },
  {
   "cell_type": "code",
   "execution_count": 3,
   "id": "086569b4",
   "metadata": {},
   "outputs": [
    {
     "name": "stdout",
     "output_type": "stream",
     "text": [
      "       Date Firm bought from  Buying price   Customer  Selling price  \\\n",
      "0  21/08/23          Vendor6         72.11  Customer7          91.58   \n",
      "1  21/08/23          Vendor4         75.08  Customer7          83.71   \n",
      "2  21/08/23          Vendor7         83.93  Customer2         103.76   \n",
      "3  21/08/23          Vendor7         52.01  Customer3          64.53   \n",
      "4  21/08/23          Vendor2         98.91  Customer5         140.92   \n",
      "\n",
      "   Quantity sold  \n",
      "0             44  \n",
      "1             17  \n",
      "2             15  \n",
      "3              7  \n",
      "4              1  \n"
     ]
    }
   ],
   "source": [
    "print(sales_data.head())"
   ]
  },
  {
   "cell_type": "code",
   "execution_count": 4,
   "id": "09d65ee0",
   "metadata": {},
   "outputs": [
    {
     "name": "stdout",
     "output_type": "stream",
     "text": [
      "       Buying price  Selling price  Quantity sold\n",
      "count     70.000000      70.000000      70.000000\n",
      "mean      56.667571      73.913286      24.242857\n",
      "std       27.520992      37.990807      22.174169\n",
      "min       10.190000      11.650000       1.000000\n",
      "25%       29.900000      38.975000       7.000000\n",
      "50%       60.760000      78.990000      17.500000\n",
      "75%       78.320000     103.397500      38.500000\n",
      "max       99.230000     146.760000      92.000000\n"
     ]
    }
   ],
   "source": [
    "print(sales_data.describe())"
   ]
  },
  {
   "cell_type": "code",
   "execution_count": 5,
   "id": "0f86bef7",
   "metadata": {},
   "outputs": [
    {
     "name": "stdout",
     "output_type": "stream",
     "text": [
      "Index(['Date', 'Firm bought from', 'Buying price', 'Customer', 'Selling price',\n",
      "       'Quantity sold'],\n",
      "      dtype='object')\n"
     ]
    }
   ],
   "source": [
    "column_names = sales_data.columns\n",
    "print(column_names)"
   ]
  },
  {
   "cell_type": "code",
   "execution_count": 6,
   "id": "c38f39f1",
   "metadata": {},
   "outputs": [],
   "source": [
    "import pandas as pd"
   ]
  },
  {
   "cell_type": "code",
   "execution_count": 7,
   "id": "3efdf2ac",
   "metadata": {},
   "outputs": [],
   "source": [
    "data = pd.read_csv(\"C:\\\\Users\\\\jeeva\\\\Downloads\\\\sales_data_2.csv\")"
   ]
  },
  {
   "cell_type": "code",
   "execution_count": null,
   "id": "404514d2",
   "metadata": {},
   "outputs": [],
   "source": [
    "total_revenue = data['Revenue'].sum()\n",
    "total_costs = data['Cost'].sum()\n",
    "gross_margin = total_revenue - total_costs\n"
   ]
  },
  {
   "cell_type": "code",
   "execution_count": null,
   "id": "55415a97",
   "metadata": {},
   "outputs": [],
   "source": [
    "profit_per_vendor = data.groupby('Vendor')['Profit'].sum()\n",
    "most_profitable_vendor = profit_per_vendor.idxmax()"
   ]
  },
  {
   "cell_type": "code",
   "execution_count": null,
   "id": "99c1d378",
   "metadata": {},
   "outputs": [],
   "source": [
    "profit_per_customer = data.groupby('Customer')['Profit'].sum()\n",
    "least_profitable_customer = profit_per_customer.idxmin()"
   ]
  },
  {
   "cell_type": "code",
   "execution_count": null,
   "id": "85685fbf",
   "metadata": {},
   "outputs": [],
   "source": [
    "data['Date'] = pd.to_datetime(data['Date'])\n",
    "data['Day_of_Week'] = data['Date'].dt.day_name()\n",
    "profit_per_day = data.groupby('Day_of_Week')['Profit'].sum()\n",
    "most_profitable_day = profit_per_day.idxmax()\n"
   ]
  },
  {
   "cell_type": "code",
   "execution_count": null,
   "id": "482c595d",
   "metadata": {},
   "outputs": [],
   "source": [
    "least_profitable_day = profit_per_day.idxmin()\n"
   ]
  },
  {
   "cell_type": "code",
   "execution_count": null,
   "id": "e3b5a411",
   "metadata": {},
   "outputs": [],
   "source": [
    "print(\"1. Overall Gross Margin: $\", gross_margin)\n",
    "print(\"2. Most Profitable Vendor: \", most_profitable_vendor)\n",
    "print(\"3. Least Profitable Customer: \", least_profitable_customer)\n",
    "print(\"4. Most Profitable Day of the Week: \", most_profitable_day)\n",
    "print(\"5. Least Profitable Day of the Week: \", least_profitable_day)"
   ]
  },
  {
   "cell_type": "code",
   "execution_count": null,
   "id": "f9b01449",
   "metadata": {},
   "outputs": [],
   "source": [
    "import pandas as pd\n",
    "\n",
    "\n",
    "data = pd.read_csv(\"C:\\\\Users\\\\jeeva\\\\Downloads\\\\sales_data_2.csv\")\n",
    "\n",
    "\n",
    "data['Date'] = pd.to_datetime(data['Date'])\n",
    "\n",
    "\n",
    "data = data.sort_values(by='Date')\n",
    "\n",
    "\n",
    "data['Daily_Gross_Profit'] = data['Revenue'] - data['Cost']\n",
    "\n",
    "\n",
    "data['3_Day_Avg_Gross_Profit'] = data['Daily_Gross_Profit'].rolling(window=3).mean()\n",
    "\n",
    "\n",
    "print(data[['Date', 'Daily_Gross_Profit', '3_Day_Avg_Gross_Profit']])\n"
   ]
  },
  {
   "cell_type": "code",
   "execution_count": null,
   "id": "8e62b4b3",
   "metadata": {},
   "outputs": [],
   "source": [
    "import pandas as pd\n",
    "\n",
    "\n",
    "df = pd.read_csv('your_dataset.csv')\n",
    "\n",
    "\n",
    "df['date'] = pd.to_datetime(df['date'])\n",
    "\n",
    "\n",
    "df.set_index('date', inplace=True)"
   ]
  },
  {
   "cell_type": "code",
   "execution_count": null,
   "id": "43742725",
   "metadata": {},
   "outputs": [],
   "source": [
    "df['3_day_trend'] = df['your_variable'].rolling('3D').mean()\n"
   ]
  },
  {
   "cell_type": "code",
   "execution_count": null,
   "id": "f285dc2a",
   "metadata": {},
   "outputs": [],
   "source": [
    "import matplotlib.pyplot as plt\n",
    "\n",
    "\n",
    "plt.figure(figsize=(12, 6))\n",
    "plt.plot(df.index, df['3_day_trend'], label='3-Day Trend')\n",
    "plt.xlabel('Date')\n",
    "plt.ylabel('Trend Value')\n",
    "plt.title('3-Day Trend Over Time')\n",
    "plt.legend()\n",
    "plt.show()\n"
   ]
  },
  {
   "cell_type": "code",
   "execution_count": null,
   "id": "064a98bc",
   "metadata": {},
   "outputs": [],
   "source": [
    "import pandas as pd\n",
    "vendor_data = pd.read_csv('vendor_data.csv')\n"
   ]
  },
  {
   "cell_type": "code",
   "execution_count": null,
   "id": "69fd513a",
   "metadata": {},
   "outputs": [],
   "source": [
    "vendor_data['Profitability'] = vendor_data['Revenue'] - vendor_data['COGS']\n"
   ]
  },
  {
   "cell_type": "code",
   "execution_count": null,
   "id": "8ab5d0a8",
   "metadata": {},
   "outputs": [],
   "source": [
    "underperforming_vendors = vendor_data[vendor_data['Profitability'] < threshold]\n"
   ]
  },
  {
   "cell_type": "code",
   "execution_count": null,
   "id": "a3fd8ace",
   "metadata": {},
   "outputs": [],
   "source": [
    "customer_data = pd.read_csv('customer_data.csv')\n"
   ]
  },
  {
   "cell_type": "code",
   "execution_count": null,
   "id": "6344550b",
   "metadata": {},
   "outputs": [],
   "source": [
    "unprofitable_customers = customer_data[customer_data['Profitability'] < threshold]\n"
   ]
  },
  {
   "cell_type": "code",
   "execution_count": null,
   "id": "0d7800f9",
   "metadata": {},
   "outputs": [],
   "source": [
    "import numpy as np\n",
    "\n",
    "\n",
    "buying_prices = [45.2, 55.7, 60.3, 72.5, 39.8, 48.6, 55.2, 63.7, 51.9, 58.4]\n",
    "selling_prices = [65.8, 75.3, 80.7, 92.1, 59.2, 68.9, 75.6, 85.4, 70.3, 78.5]\n",
    "\n",
    "\n",
    "percentiles = [25, 50, 75]\n",
    "\n",
    "buying_price_percentiles = np.percentile(buying_prices, percentiles)\n",
    "selling_price_percentiles = np.percentile(selling_prices, percentiles)\n",
    "\n",
    "\n",
    "print(\"Buying Price Percentiles:\")\n",
    "for p, percentile in zip(percentiles, buying_price_percentiles):\n",
    "    print(f\"{p}th percentile: {percentile}\")\n",
    "\n",
    "print(\"\\nSelling Price Percentiles:\")\n",
    "for p, percentile in zip(percentiles, selling_price_percentiles):\n",
    "    print(f\"{p}th percentile: {percentile}\")\n"
   ]
  },
  {
   "cell_type": "code",
   "execution_count": null,
   "id": "3bb3a34d",
   "metadata": {},
   "outputs": [],
   "source": [
    "sapota_data = {\n",
    "    'BuyingPrice': [50.2, 48.7, 52.3, 45.6, 49.8, 53.2, 47.5, 50.1, 55.4, 46.9],\n",
    "    'SellingPrice': [60.4, 58.9, 62.5, 56.8, 59.7, 63.1, 58.3, 61.2, 65.6, 57.8],\n",
    "}\n",
    "\n",
    "\n",
    "below_25_buying = 0\n",
    "above_75_selling = 0\n",
    "\n",
    "for buying_price, selling_price in zip(sapota_data['BuyingPrice'], sapota_data['SellingPrice']):\n",
    "    if buying_price < buying_price_percentiles[0]:\n",
    "        below_25_buying += 1\n",
    "\n",
    "    if selling_price > selling_price_percentiles[2]:\n",
    "        above_75_selling += 1\n",
    "\n",
    "\n",
    "total_transactions = len(sapota_data['BuyingPrice'])\n",
    "percentage_below_25_buying = (below_25_buying / total_transactions) * 100\n",
    "percentage_above_75_selling = (above_75_selling / total_transactions) * 100\n",
    "\n",
    "print(\"Analysis for Sapota's Prices:\")\n",
    "print(f\"Percentage of Buying Prices Below 25th Percentile: {percentage_below_25_buying:.2f}%\")\n",
    "print(f\"Percentage of Selling Prices Above 75th Percentile: {percentage_above_75_selling:.2f}%\")\n"
   ]
  },
  {
   "cell_type": "code",
   "execution_count": null,
   "id": "f35965d0",
   "metadata": {},
   "outputs": [],
   "source": [
    "import pandas as pd\n",
    "\n",
    "\n",
    "vendor_data = pd.DataFrame({\n",
    "    'VendorID': [1, 2, 3, 4, 5],\n",
    "    'ContributionToGrossMargin': [0.15, 0.1, 0.12, 0.08, 0.14]\n",
    "})\n",
    "\n",
    "\n",
    "total_gross_margin_without_vendor_4 = vendor_data[vendor_data['VendorID'] != 4]['ContributionToGrossMargin'].sum()\n",
    "\n",
    "total_gross_margin_with_vendor_4 = vendor_data['ContributionToGrossMargin'].sum()\n",
    "\n",
    "\n",
    "impact_on_gross_margin = total_gross_margin_with_vendor_4 - total_gross_margin_without_vendor_4\n",
    "\n",
    "\n",
    "print(f\"Total Gross Margin Without Vendor 4: {total_gross_margin_without_vendor_4:.2%}\")\n",
    "print(f\"Total Gross Margin With Vendor 4: {total_gross_margin_with_vendor_4:.2%}\")\n",
    "print(f\"Impact on Gross Margin by Honoring Vendor 4: {impact_on_gross_margin:.2%}\")\n"
   ]
  },
  {
   "cell_type": "code",
   "execution_count": null,
   "id": "361ce2e7",
   "metadata": {},
   "outputs": [],
   "source": [
    "import pandas as pd\n",
    "\n",
    "\n",
    "vendor_data = pd.DataFrame({\n",
    "    'VendorID': [1, 2, 3, 4, 5],\n",
    "    'ContributionToGrossMargin': [0.15, 0.10, 0.12, 0.08, 0.14]\n",
    "})\n",
    "\n",
    "\n",
    "best_vendor = vendor_data[vendor_data['ContributionToGrossMargin'] == vendor_data['ContributionToGrossMargin'].max()]\n",
    "\n",
    "\n",
    "theoretical_max_margin = best_vendor['ContributionToGrossMargin'].values[0]\n",
    "\n",
    "\n",
    "print(f\"Vendor with the Highest Gross Margin: Vendor {best_vendor['VendorID'].values[0]}\")\n",
    "print(f\"Theoretical Maximum Gross Margin: {theoretical_max_margin:.2%}\")\n"
   ]
  },
  {
   "cell_type": "code",
   "execution_count": null,
   "id": "1dbf14ef",
   "metadata": {},
   "outputs": [],
   "source": [
    "initial_price = 10.0\n",
    "new_price = 9.0\n",
    "initial_quantity = 1000\n",
    "new_quantity = 1100\n",
    "\n",
    "\n",
    "price_elasticity = ((new_quantity - initial_quantity) / initial_quantity) / ((new_price - initial_price) / initial_price)\n",
    "\n",
    "\n",
    "print(f\"Price Elasticity of Sapota: {price_elasticity:.2f}\")\n"
   ]
  },
  {
   "cell_type": "code",
   "execution_count": null,
   "id": "57bf3543",
   "metadata": {},
   "outputs": [],
   "source": []
  },
  {
   "cell_type": "code",
   "execution_count": null,
   "id": "f23bf9c0",
   "metadata": {},
   "outputs": [],
   "source": []
  },
  {
   "cell_type": "code",
   "execution_count": null,
   "id": "245cf623",
   "metadata": {},
   "outputs": [],
   "source": []
  }
 ],
 "metadata": {
  "kernelspec": {
   "display_name": "Python 3 (ipykernel)",
   "language": "python",
   "name": "python3"
  },
  "language_info": {
   "codemirror_mode": {
    "name": "ipython",
    "version": 3
   },
   "file_extension": ".py",
   "mimetype": "text/x-python",
   "name": "python",
   "nbconvert_exporter": "python",
   "pygments_lexer": "ipython3",
   "version": "3.10.9"
  }
 },
 "nbformat": 4,
 "nbformat_minor": 5
}
